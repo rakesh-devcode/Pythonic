{
 "cells": [
  {
   "cell_type": "markdown",
   "metadata": {},
   "source": [
    "## Dictionary Methods:\n",
    "1. dict.clear()- Removes all elements of dictionary dict\n",
    "2. dict.copy() -Returns a shallow copy of dictionary dict\n",
    "3. dict.fromkeys()- Create a new dictionary with keys from seq and values set to value.\n",
    "4. dict.get(key, default=None)- For key key, returns value or default if key not in dictionary\n",
    "5. dict.items()- Returns a view object that displays a list of a given dictionary's (key, value) tuple pair\n",
    "6. dict.keys()- Returns a view object that displays a list of dictionary dict's keys\n",
    "7. dict.setdefault(key, default=None)- Similar to get(), but will set dict[key]=default if key is not already in dict\n",
    "8. dict.update(dict2)-Adds dictionary dict2's key-values pairs to dict\n",
    "9.\tdict.values()- Returns a view object that displays a list of dictionary dict's values\n",
    "\n",
    "### Tuple methods:\n",
    "1. count,index\n",
    "\n",
    "Dictionary Extra method:\n",
    "5. dict.has_key(key)- Returns true if key in dictionary dict, false otherwise(applicable in python 2)\n",
    "\n",
    "## Dictionary Comprehension:\n",
    "1. Simple example\n",
    "2. Lambda and Map example\n",
    "3. avoid lambda and map by dictionary comprehension\n",
    "4. Nested dictionary comprehension"
   ]
  },
  {
   "cell_type": "code",
   "execution_count": 5,
   "metadata": {},
   "outputs": [
    {
     "name": "stdout",
     "output_type": "stream",
     "text": [
      "{'Name': 'Zara', 'Age': 8, 'Class': 'First', 'School': 'DPS School'}\n"
     ]
    }
   ],
   "source": [
    "#Basic operations:\n",
    "\n",
    "dict = {'Name': 'Zara', 'Age': 7, 'Class': 'First'}\n",
    "dict['Age'] = 8; # update existing entry\n",
    "dict['School'] = \"DPS School\"; # Add new entry\n",
    "\n",
    "print(dict)"
   ]
  },
  {
   "cell_type": "code",
   "execution_count": 2,
   "metadata": {},
   "outputs": [
    {
     "name": "stdout",
     "output_type": "stream",
     "text": [
      "{'Age': 7, 'Class': 'First'}\n",
      "<class 'dict'>\n"
     ]
    }
   ],
   "source": [
    "dict = {'Name': 'Zara', 'Age': 7, 'Class': 'First'}\n",
    "del dict['Name']; # remove entry with key 'Name'\n",
    "print(dict)\n",
    "#To remove whole dict we can use del as well\n",
    "del(dict)\n",
    "print(dict)"
   ]
  },
  {
   "cell_type": "code",
   "execution_count": 1,
   "metadata": {},
   "outputs": [
    {
     "name": "stdout",
     "output_type": "stream",
     "text": [
      "Start Len : 2\n",
      "End Len : 0\n"
     ]
    }
   ],
   "source": [
    "dict = {'Name': 'Zara', 'Age': 7};\n",
    "print (\"Start Len : %d\" %len(dict))\n",
    "dict.clear()\n",
    "print (\"End Len : %d\" %len(dict))"
   ]
  },
  {
   "cell_type": "code",
   "execution_count": 2,
   "metadata": {},
   "outputs": [
    {
     "name": "stdout",
     "output_type": "stream",
     "text": [
      "{'Name': 'Zara', 'Age': 7}\n",
      "New Dictionary : {'Name': 'Zara', 'Age': 7}\n",
      "Testing : {'Name': 'Zara', 'Age': 7}\n"
     ]
    }
   ],
   "source": [
    "dict1 = {'Name': 'Zara', 'Age': 7};\n",
    "dict2 = dict1.copy()\n",
    "print(dict2)  # type is dictionary\n",
    "print (\"New Dictionary : %s\" %str(dict2)) # Parsed in string so here type is stringt\n",
    "print(\"Testing :\",dict2)"
   ]
  },
  {
   "cell_type": "code",
   "execution_count": 4,
   "metadata": {},
   "outputs": [
    {
     "name": "stdout",
     "output_type": "stream",
     "text": [
      "{'e': None, 'o': None, 'i': None, 'a': None, 'u': None}\n",
      "{'e': 'vowel', 'o': 'vowel', 'i': 'vowel', 'a': 'vowel', 'u': 'vowel'}\n"
     ]
    }
   ],
   "source": [
    "# dictionary.fromkeys(sequence[, value])\n",
    "# sequence - sequence of elements which is to be used as keys for the new dictionary\n",
    "# value (Optional) - value which is set to each each element of the dictionary\n",
    "\n",
    "keys = {'a', 'e', 'i', 'o', 'u' }\n",
    "vowels = dict.fromkeys(keys)\n",
    "print(vowels)\n",
    "\n",
    "# vowels keys\n",
    "keys = {'a', 'e', 'i', 'o', 'u' }\n",
    "value = 'vowel'\n",
    "vowels = dict.fromkeys(keys, value)\n",
    "print(vowels)\n"
   ]
  },
  {
   "cell_type": "code",
   "execution_count": 3,
   "metadata": {},
   "outputs": [
    {
     "name": "stdout",
     "output_type": "stream",
     "text": [
      "{'u': [1], 'i': [1], 'a': [1], 'e': [1], 'o': [1]}\n",
      "{'u': [1, 2], 'i': [1, 2], 'a': [1, 2], 'e': [1, 2], 'o': [1, 2]}\n",
      "{'u': [1], 'i': [1], 'a': [1], 'e': [1], 'o': [1]}\n",
      "{'u': [1], 'i': [1], 'a': [1], 'e': [1], 'o': [1]}\n"
     ]
    }
   ],
   "source": [
    "keys = {'a', 'e', 'i', 'o', 'u' }\n",
    "value = [1]\n",
    "vowels = dict.fromkeys(keys, value)\n",
    "print(vowels)\n",
    "# updating the value\n",
    "value.append(2)\n",
    "print(vowels)\n",
    "\n",
    " # To avoid the above condition we will use Dictionary generator\n",
    "keys = {'a', 'e', 'i', 'o', 'u' }\n",
    "value = [1]\n",
    "vowels = { key : list(value) for key in keys }\n",
    "# you can also use { key : value[:] for key in keys }\n",
    "print(vowels)\n",
    "# updating the value\n",
    "value.append(2)\n",
    "print(vowels)  "
   ]
  },
  {
   "cell_type": "markdown",
   "metadata": {},
   "source": [
    "The get() method returns:\n",
    "1. the value for the specified key if key is in dictionary.\n",
    "2. None if the key is not found and value is not specified.\n",
    "3. value if the key is not found and value is specified."
   ]
  },
  {
   "cell_type": "code",
   "execution_count": 2,
   "metadata": {},
   "outputs": [
    {
     "name": "stdout",
     "output_type": "stream",
     "text": [
      "Name:  None\n",
      "Age:  22\n",
      "Salary:  None\n",
      "Salary:  0.0\n",
      "Name:   \n"
     ]
    }
   ],
   "source": [
    "person = {'name': 'Phill', 'age': 22}\n",
    "print('Name: ', person.get('name1'))\n",
    "print('Age: ', person.get('age'))\n",
    "\n",
    "# value is not provided\n",
    "print('Salary: ', person.get('salary'))\n",
    "\n",
    "# value is provided\n",
    "print('Salary: ', person.get('salary', 0.0))\n",
    "\n",
    "#If we use dict['Key'] and it will not find the key ,it throws KeyErroor while get returns none as shown above.\n",
    "#print(person['salary'])\n",
    "person = {'name': ' ', 'age': 22}\n",
    "print('Name: ', person['name'])"
   ]
  },
  {
   "cell_type": "code",
   "execution_count": 13,
   "metadata": {},
   "outputs": [
    {
     "ename": "AttributeError",
     "evalue": "'dict' object has no attribute 'has_key'",
     "output_type": "error",
     "traceback": [
      "\u001b[1;31m---------------------------------------------------------------------------\u001b[0m",
      "\u001b[1;31mAttributeError\u001b[0m                            Traceback (most recent call last)",
      "\u001b[1;32m<ipython-input-13-ba268711ba6d>\u001b[0m in \u001b[0;36m<module>\u001b[1;34m()\u001b[0m\n\u001b[0;32m      1\u001b[0m \u001b[0mdict\u001b[0m \u001b[1;33m=\u001b[0m \u001b[1;33m{\u001b[0m\u001b[1;34m'Name'\u001b[0m\u001b[1;33m:\u001b[0m \u001b[1;34m'Zara'\u001b[0m\u001b[1;33m,\u001b[0m \u001b[1;34m'Age'\u001b[0m\u001b[1;33m:\u001b[0m \u001b[1;36m7\u001b[0m\u001b[1;33m}\u001b[0m\u001b[1;33m\u001b[0m\u001b[0m\n\u001b[0;32m      2\u001b[0m \u001b[1;31m# print (\"Value : {}\".format(dict.has_key('Age'))\u001b[0m\u001b[1;33m\u001b[0m\u001b[1;33m\u001b[0m\u001b[0m\n\u001b[1;32m----> 3\u001b[1;33m \u001b[0mprint\u001b[0m \u001b[1;33m(\u001b[0m\u001b[1;34m\"Value : %s\"\u001b[0m \u001b[1;33m%\u001b[0m \u001b[0mdict\u001b[0m\u001b[1;33m.\u001b[0m\u001b[0mhas_key\u001b[0m\u001b[1;33m(\u001b[0m\u001b[1;34m'Sex'\u001b[0m\u001b[1;33m)\u001b[0m\u001b[1;33m)\u001b[0m\u001b[1;33m\u001b[0m\u001b[0m\n\u001b[0m",
      "\u001b[1;31mAttributeError\u001b[0m: 'dict' object has no attribute 'has_key'"
     ]
    }
   ],
   "source": [
    "dict = {'Name': 'Zara', 'Age': 7}\n",
    "# print (\"Value : {}\".format(dict.has_key('Age'))\n",
    "print (\"Value : %s\" % dict.has_key('Sex'))"
   ]
  },
  {
   "cell_type": "code",
   "execution_count": 8,
   "metadata": {},
   "outputs": [
    {
     "name": "stdout",
     "output_type": "stream",
     "text": [
      "dict_items([('01', 'Ram'), ('02', 'Rakesh'), ('03', 'Raju')])\n",
      "('01', 'Ram')\n",
      "('02', 'Rakesh')\n",
      "('03', 'Raju')\n"
     ]
    }
   ],
   "source": [
    "# The items() method returns a view object that displays a list of a given dictionary's (key, value) tuple pair.\n",
    "# The items() method is similar to dictionary's viewitems() method in Python 2.7\n",
    "dict1 = {'01':\"Ram\",'02':\"Rakesh\",'03':\"Raju\"}\n",
    "Items = dict1.items()\n",
    "print(Items)\n",
    "# liitem = list(Items)\n",
    "# print(liitem[1])\n",
    "for item in Items:\n",
    "    print(item)"
   ]
  },
  {
   "cell_type": "code",
   "execution_count": 4,
   "metadata": {},
   "outputs": [
    {
     "name": "stdout",
     "output_type": "stream",
     "text": [
      "dict_keys(['name', 'age', 'salary'])\n",
      "age\n",
      "dict_keys([])\n"
     ]
    }
   ],
   "source": [
    "# The keys() method returns a view object that displays a list of all the keys in the dictionary\n",
    "person = {'name': 'Phill', 'age': 22, 'salary': 3500.0}\n",
    "print(person.keys()) #it returns dict_keys which works as a set and it wont be iterable.so convert to list to get iterable.\n",
    "\n",
    "dict2 =list(person.keys())\n",
    "print(dict2[1])\n",
    "\n",
    "empty_dict = {}\n",
    "print(empty_dict.keys())"
   ]
  },
  {
   "cell_type": "markdown",
   "metadata": {},
   "source": [
    "The setdefault() returns:\n",
    "1. value of the key if it is in the dictionary\n",
    "2. None if key is not in the dictionary and default_value is not specified\n",
    "3. default_value if key is not in the dictionary and default_value is specified"
   ]
  },
  {
   "cell_type": "code",
   "execution_count": 3,
   "metadata": {},
   "outputs": [
    {
     "name": "stdout",
     "output_type": "stream",
     "text": [
      "person =  {'name': 'Phill', 'age': 22}\n",
      "Age =  22\n",
      "person =  {'name': 'Phill', 'salary': None}\n",
      "salary =  None\n",
      "person =  {'name': 'Phill', 'salary': None, 'age': 25}\n",
      "age =  25\n"
     ]
    }
   ],
   "source": [
    "# Key is in Dictionary:\n",
    "person = {'name': 'Phill', 'age': 22}\n",
    "age = person.setdefault('age')\n",
    "print('person = ',person)\n",
    "print('Age = ',age)\n",
    "\n",
    "# Key is not in dictionary.\n",
    "person = {'name': 'Phill'}\n",
    "\n",
    "# key is not in the dictionary\n",
    "salary = person.setdefault('salary')\n",
    "print('person = ',person)\n",
    "print('salary = ',salary)\n",
    "\n",
    "# key is not in the dictionary\n",
    "# default_value is provided\n",
    "age = person.setdefault('age', 25)\n",
    "print('person = ',person)\n",
    "print('age = ',age)"
   ]
  },
  {
   "cell_type": "code",
   "execution_count": 28,
   "metadata": {},
   "outputs": [
    {
     "name": "stdout",
     "output_type": "stream",
     "text": [
      "{'01': 'Ram', '02': 'Rakesh', '03': 'Raju', '04': 'India'}\n",
      "{'x': 2, 'y': 3, 'z': 0}\n"
     ]
    }
   ],
   "source": [
    "# update() method updates the dictionary with elements from a dictionary object or an iterable object of key/value pairs.\n",
    "dict1 = {'01':\"Ram\",'02':\"Rakesh\",'03':\"Raju\"}\n",
    "dict2= {'04':'India'}\n",
    "dict1.update(dict2)\n",
    "print(dict1)\n",
    "\n",
    "# update() Works With an Iterable?\n",
    "d = {'x': 2}\n",
    "d.update(y = 3, z = 0)\n",
    "print(d)"
   ]
  },
  {
   "cell_type": "code",
   "execution_count": 27,
   "metadata": {},
   "outputs": [
    {
     "name": "stdout",
     "output_type": "stream",
     "text": [
      "Original items: dict_values([2, 3, 4])\n",
      "Updated items: dict_values([3, 4])\n"
     ]
    }
   ],
   "source": [
    "# The values() method returns a view object that displays a list of all the values in the dictionary.\n",
    "# random sales dictionary\n",
    "sales = { 'apple': 2, 'orange': 3, 'grapes': 4 }\n",
    "\n",
    "values = sales.values()\n",
    "print('Original items:', values)\n",
    "\n",
    "# delete an item from dictionary\n",
    "del[sales['apple']]\n",
    "print('Updated items:', values)"
   ]
  },
  {
   "cell_type": "code",
   "execution_count": 4,
   "metadata": {},
   "outputs": [
    {
     "name": "stdout",
     "output_type": "stream",
     "text": [
      "2\n",
      "1\n"
     ]
    }
   ],
   "source": [
    "t1 = (123,\"abc\",\"fgh\",\"abc\")\n",
    "print(t1.count(\"abc\"))\n",
    "print(t1.index(\"abc\"))"
   ]
  },
  {
   "cell_type": "code",
   "execution_count": 7,
   "metadata": {},
   "outputs": [
    {
     "name": "stdout",
     "output_type": "stream",
     "text": [
      "{'apple': 4, 'orange': 4, 'grapes': 4}\n"
     ]
    }
   ],
   "source": [
    "sales = { 'apple': 2, 'orange': 3, 'grapes': 4 }\n",
    "for k1,v1 in sales.items():\n",
    "    sales[k1] = 4\n",
    "print(sales)"
   ]
  },
  {
   "cell_type": "markdown",
   "metadata": {},
   "source": [
    "### Dictionary comprehension"
   ]
  },
  {
   "cell_type": "code",
   "execution_count": 7,
   "metadata": {},
   "outputs": [
    {
     "name": "stdout",
     "output_type": "stream",
     "text": [
      "Iterating using DC:{'a': 1, 'b': 2, 'c': 3, 'd': 4}\n",
      "Multiplying by 2 in value using DC:{'a': 2, 'b': 4, 'c': 6, 'd': 8}\n",
      "Filtering even values using DC:{'b': 2, 'd': 4}\n"
     ]
    }
   ],
   "source": [
    "dict1 = {'a':1,'b':2,'c':3,'d':4}\n",
    "\n",
    "dict2 = {k:v for (k,v) in dict1.items()}\n",
    "print(\"Iterating using DC:{}\".format(dict2))\n",
    "\n",
    "dict3 = {k:v*2 for (k,v) in dict1.items()}\n",
    "print(\"Multiplying by 2 in value using DC:{}\".format(dict3))\n",
    "\n",
    "dict4 = {k:v for (k,v) in dict1.items() if v%2 == 0}\n",
    "print(\"Filtering even values using DC:{}\".format(dict4))"
   ]
  },
  {
   "cell_type": "code",
   "execution_count": 11,
   "metadata": {},
   "outputs": [
    {
     "name": "stdout",
     "output_type": "stream",
     "text": [
      "conditional dictionary:{'b': 'Even no', 'd': 'Even no'}\n"
     ]
    }
   ],
   "source": [
    "dict1 = {'a':7,'b':8,'c':5,'d':6}\n",
    "dict2 = {k: \"Even no\" if v %2 == 0 else \"Odd no\"  for (k,v) in dict1.items() if v%2 == 0 }\n",
    "print(\"conditional dictionary:{}\".format(dict2))"
   ]
  },
  {
   "cell_type": "code",
   "execution_count": 14,
   "metadata": {},
   "outputs": [
    {
     "name": "stdout",
     "output_type": "stream",
     "text": [
      "New tempreature in F: {'temp1': 21.11111111111111, 'temp2': 26.666666666666668, 'temp3': 32.22222222222222, 'temp4': 37.77777777777778}\n"
     ]
    }
   ],
   "source": [
    "feh = {'temp1': 70,'temp2':80,'temp3':90,'temp4':100}\n",
    "cel_value = list(map(lambda x: (float(5)/9)*(x-32),feh.values()))\n",
    "cel_dict = dict(zip(feh.keys(),cel_dict))\n",
    "print(\"New tempreature in F:\",cel_dict)"
   ]
  },
  {
   "cell_type": "code",
   "execution_count": 15,
   "metadata": {},
   "outputs": [
    {
     "name": "stdout",
     "output_type": "stream",
     "text": [
      "{('temp4', 37.77777777777778), ('temp3', 32.22222222222222), ('temp1', 21.11111111111111), ('temp2', 26.666666666666668)}\n"
     ]
    }
   ],
   "source": [
    "## Now we will not use map and lambda.Instead of that we will use dictionary comprehension\n",
    "feh = {'temp1': 70,'temp2':80,'temp3':90,'temp4':100}\n",
    "cel_dict = {(k,(float(5)/9)*(v-32)) for (k,v) in feh.items()}\n",
    "print(cel_dict)\n"
   ]
  },
  {
   "cell_type": "code",
   "execution_count": null,
   "metadata": {},
   "outputs": [],
   "source": []
  }
 ],
 "metadata": {
  "kernelspec": {
   "display_name": "Python 3",
   "language": "python",
   "name": "python3"
  },
  "language_info": {
   "codemirror_mode": {
    "name": "ipython",
    "version": 3
   },
   "file_extension": ".py",
   "mimetype": "text/x-python",
   "name": "python",
   "nbconvert_exporter": "python",
   "pygments_lexer": "ipython3",
   "version": "3.6.3"
  }
 },
 "nbformat": 4,
 "nbformat_minor": 2
}
