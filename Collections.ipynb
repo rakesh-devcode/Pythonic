{
 "cells": [
  {
   "cell_type": "markdown",
   "metadata": {},
   "source": [
    "## Collections library\n",
    "1. Counter()\n",
    "2. defaultdict()\n",
    "3. Ordereddict()\n",
    "4. namedtuples()"
   ]
  },
  {
   "cell_type": "code",
   "execution_count": 1,
   "metadata": {},
   "outputs": [],
   "source": [
    "import collections\n",
    "from collections import Counter\n",
    "from collections import defaultdict\n",
    "from collections import OrderedDict"
   ]
  },
  {
   "cell_type": "code",
   "execution_count": 4,
   "metadata": {},
   "outputs": [
    {
     "name": "stdout",
     "output_type": "stream",
     "text": [
      "dict_items([(1, 3), (2, 3), (3, 3), (4, 3), (5, 2)])\n",
      "dict_keys([1, 2, 3, 4, 5])\n",
      "dict_values([3, 3, 3, 3, 2])\n"
     ]
    }
   ],
   "source": [
    "myList= [1,1,1,2,3,2,4,3,4,5,2,3,4,5]\n",
    "print (Counter(myList).items())\n",
    "print (Counter(myList).keys())\n",
    "print (Counter(myList).values())"
   ]
  },
  {
   "cell_type": "code",
   "execution_count": 5,
   "metadata": {},
   "outputs": [
    {
     "ename": "TypeError",
     "evalue": "int() argument must be a string or a number, not 'NoneType'",
     "output_type": "error",
     "traceback": [
      "\u001b[1;31m---------------------------------------------------------------------------\u001b[0m",
      "\u001b[1;31mTypeError\u001b[0m                                 Traceback (most recent call last)",
      "\u001b[1;32m<ipython-input-5-7995fe8cf453>\u001b[0m in \u001b[0;36m<module>\u001b[1;34m()\u001b[0m\n\u001b[0;32m      7\u001b[0m \u001b[1;33m\u001b[0m\u001b[0m\n\u001b[0;32m      8\u001b[0m \u001b[1;32mif\u001b[0m \u001b[0m__name__\u001b[0m \u001b[1;33m==\u001b[0m \u001b[1;34m'__main__'\u001b[0m\u001b[1;33m:\u001b[0m\u001b[1;33m\u001b[0m\u001b[0m\n\u001b[1;32m----> 9\u001b[1;33m     \u001b[0mnumshoes\u001b[0m \u001b[1;33m=\u001b[0m \u001b[0mint\u001b[0m\u001b[1;33m(\u001b[0m\u001b[0mraw_input\u001b[0m\u001b[1;33m(\u001b[0m\u001b[1;33m)\u001b[0m\u001b[1;33m)\u001b[0m\u001b[1;33m\u001b[0m\u001b[0m\n\u001b[0m\u001b[0;32m     10\u001b[0m     \u001b[0mshoes\u001b[0m \u001b[1;33m=\u001b[0m \u001b[0mCounter\u001b[0m\u001b[1;33m(\u001b[0m\u001b[0mmap\u001b[0m\u001b[1;33m(\u001b[0m\u001b[0mint\u001b[0m\u001b[1;33m,\u001b[0m \u001b[0mraw_input\u001b[0m\u001b[1;33m(\u001b[0m\u001b[1;33m)\u001b[0m\u001b[1;33m.\u001b[0m\u001b[0msplit\u001b[0m\u001b[1;33m(\u001b[0m\u001b[1;33m)\u001b[0m\u001b[1;33m)\u001b[0m\u001b[1;33m)\u001b[0m\u001b[1;33m\u001b[0m\u001b[0m\n\u001b[0;32m     11\u001b[0m     \u001b[0mnumcust\u001b[0m \u001b[1;33m=\u001b[0m \u001b[0mint\u001b[0m\u001b[1;33m(\u001b[0m\u001b[0mraw_input\u001b[0m\u001b[1;33m(\u001b[0m\u001b[1;33m)\u001b[0m\u001b[1;33m)\u001b[0m\u001b[1;33m\u001b[0m\u001b[0m\n",
      "\u001b[1;31mTypeError\u001b[0m: int() argument must be a string or a number, not 'NoneType'"
     ]
    }
   ],
   "source": [
    "import sys\n",
    "from collections import Counter\n",
    "\n",
    "def raw_input():\n",
    "    for s in sys.stdin:\n",
    "        return s\n",
    "\n",
    "if __name__ == '__main__':\n",
    "    numshoes = int(raw_input())\n",
    "    shoes = Counter(map(int, raw_input().split()))\n",
    "    numcust = int(raw_input())\n",
    "    income = 0\n",
    "    for i in range(numcust):\n",
    "        size, price = map(int, raw_input().split())\n",
    "        if shoes[size]:    # in Python 0 == False, so if shoes[size] is 0 this will evaluate to False otherwise it will be True\n",
    "            income += price\n",
    "            shoes[size] -= 1\n",
    "\n",
    "    print(income)"
   ]
  },
  {
   "cell_type": "code",
   "execution_count": 10,
   "metadata": {},
   "outputs": [
    {
     "name": "stdout",
     "output_type": "stream",
     "text": [
      "defaultdict(<type 'list'>, {'python': ['awesome', 'language'], 'something-else': ['not relevant']})\n"
     ]
    }
   ],
   "source": [
    "#The defaultdict tool is a container in the collections class of Python. It's similar to the usual dictionary (dict) container, \n",
    "# but it has one difference: The value fields' data type is specified upon initialization. \n",
    "\n",
    "d = defaultdict(list)\n",
    "d['python'].append(\"awesome\")\n",
    "d['something-else'].append(\"not relevant\")\n",
    "d['python'].append(\"language\")\n",
    "print(d)\n",
    "# for i in d.items():\n",
    "#     print i\n"
   ]
  },
  {
   "cell_type": "code",
   "execution_count": 3,
   "metadata": {},
   "outputs": [
    {
     "name": "stdout",
     "output_type": "stream",
     "text": [
      "{'something-else': 'not relevant', 'python': ['awesome', 'language']}\n"
     ]
    }
   ],
   "source": [
    "d =dict()\n",
    "#d['python'] =\"awesome\"\n",
    "d['something-else'] = \"not relevant\"\n",
    "# d['python'].append(\"language\")\n",
    "d['python'] = []\n",
    "d['python'].append(\"awesome\")\n",
    "d['python'].append(\"language\")\n",
    "print(d)"
   ]
  },
  {
   "cell_type": "code",
   "execution_count": 2,
   "metadata": {},
   "outputs": [],
   "source": [
    "#check the performance\n",
    "def using_coll():\n",
    "    d = defaultdict(list)\n",
    "    d['python'].append(\"awesome\")\n",
    "    d['something-else'].append(\"not relevant\")\n",
    "    d['python'].append(\"language\")\n",
    "    print(d)\n",
    "\n",
    "def without_coll():\n",
    "    d =dict()\n",
    "    d['something-else'] = \"not relevant\"\n",
    "    d['python'] = []\n",
    "    d['python'].append(\"awesome\")\n",
    "    d['python'].append(\"language\")\n",
    "    print(d)\n",
    "    "
   ]
  },
  {
   "cell_type": "markdown",
   "metadata": {},
   "source": [
    "For ordered dict: https://www.geeksforgeeks.org/ordereddict-in-python/"
   ]
  },
  {
   "cell_type": "code",
   "execution_count": 16,
   "metadata": {},
   "outputs": [
    {
     "name": "stdout",
     "output_type": "stream",
     "text": [
      "{'a': 1, 'c': 3, 'b': 2, 'e': 5, 'd': 4}\n",
      "OrderedDict([('a', 1), ('b', 2), ('c', 3), ('d', 4), ('e', 5)])\n"
     ]
    }
   ],
   "source": [
    "# An OrderedDict is a dictionary that remembers the order of the keys that were inserted first. If a new entry overwrites an \n",
    "# existing entry, the original insertion position is left unchanged.\n",
    "ordinary_dictionary = {}\n",
    "ordinary_dictionary['a'] = 1\n",
    "ordinary_dictionary['b'] = 2\n",
    "ordinary_dictionary['c'] = 3\n",
    "ordinary_dictionary['d'] = 4\n",
    "ordinary_dictionary['e'] = 5\n",
    "print ordinary_dictionary\n",
    "\n",
    "ordered_dictionary = OrderedDict()\n",
    "ordered_dictionary['a'] = 1\n",
    "ordered_dictionary['b'] = 2\n",
    "ordered_dictionary['c'] = 3\n",
    "ordered_dictionary['d'] = 4\n",
    "ordered_dictionary['e'] = 5\n",
    "print ordered_dictionary\n"
   ]
  },
  {
   "cell_type": "code",
   "execution_count": 4,
   "metadata": {},
   "outputs": [
    {
     "name": "stdout",
     "output_type": "stream",
     "text": [
      "<class '__main__.Student'>\n",
      "Student(name='Nandini', age='19', DOB='2541997')\n",
      "The Student age using index is : 19\n",
      "The Student name using keyname is : Nandini\n",
      "The Student DOB using getattr() is : 2541997\n"
     ]
    },
    {
     "ename": "AttributeError",
     "evalue": "'Student' object has no attribute 'DOC'",
     "output_type": "error",
     "traceback": [
      "\u001b[1;31m---------------------------------------------------------------------------\u001b[0m",
      "\u001b[1;31mAttributeError\u001b[0m                            Traceback (most recent call last)",
      "\u001b[1;32m<ipython-input-4-74399e70f26e>\u001b[0m in \u001b[0;36m<module>\u001b[1;34m\u001b[0m\n\u001b[0;32m     22\u001b[0m \u001b[0mprint\u001b[0m \u001b[1;33m(\u001b[0m\u001b[1;34m\"The Student DOB using getattr() is : \"\u001b[0m\u001b[1;33m,\u001b[0m\u001b[0mend\u001b[0m \u001b[1;33m=\u001b[0m\u001b[1;34m\"\"\u001b[0m\u001b[1;33m)\u001b[0m\u001b[1;33m\u001b[0m\u001b[0m\n\u001b[0;32m     23\u001b[0m \u001b[0mprint\u001b[0m \u001b[1;33m(\u001b[0m\u001b[0mgetattr\u001b[0m\u001b[1;33m(\u001b[0m\u001b[0mS\u001b[0m\u001b[1;33m,\u001b[0m\u001b[1;34m'DOB'\u001b[0m\u001b[1;33m)\u001b[0m\u001b[1;33m)\u001b[0m\u001b[1;33m\u001b[0m\u001b[0m\n\u001b[1;32m---> 24\u001b[1;33m \u001b[0mprint\u001b[0m \u001b[1;33m(\u001b[0m\u001b[0mgetattr\u001b[0m\u001b[1;33m(\u001b[0m\u001b[0mS\u001b[0m\u001b[1;33m,\u001b[0m\u001b[1;34m'DOC'\u001b[0m\u001b[1;33m)\u001b[0m\u001b[1;33m)\u001b[0m\u001b[1;33m\u001b[0m\u001b[0m\n\u001b[0m",
      "\u001b[1;31mAttributeError\u001b[0m: 'Student' object has no attribute 'DOC'"
     ]
    }
   ],
   "source": [
    "# Declaring namedtuple()\n",
    "# namedtuple(Name,fields)\n",
    "# Advantage of named tuple is it provides more readability.\n",
    "# Refer this youtube link: https://www.youtube.com/watch?v=GfxJYp9_nJA\n",
    "Student = collections.namedtuple('Student',['name','age','DOB'])\n",
    "\n",
    "print(Student)\n",
    "# Adding values\n",
    "S = Student('Nandini','19','2541997')\n",
    "print(S)\n",
    "# Access using index\n",
    "print (\"The Student age using index is : \",end =\"\")\n",
    "print (S[1])\n",
    " \n",
    "# Access using name \n",
    "print (\"The Student name using keyname is : \",end =\"\")\n",
    "print (S.name)\n",
    "#print (S.DOC)\n",
    "#print (S['name'])--it will throw error\n",
    " \n",
    "# Access using getattr()\n",
    "print (\"The Student DOB using getattr() is : \",end =\"\")\n",
    "print (getattr(S,'DOB'))\n",
    "print (getattr(S,'DOC'))"
   ]
  },
  {
   "cell_type": "code",
   "execution_count": 16,
   "metadata": {},
   "outputs": [
    {
     "name": "stdout",
     "output_type": "stream",
     "text": [
      "All the fields of students are : \n",
      "('name', 'age', 'DOB')\n",
      "The modified namedtuple is : \n",
      "Student(name='Manjeet', age='19', DOB='2541997')\n"
     ]
    }
   ],
   "source": [
    "# Declaring namedtuple()\n",
    "Student = collections.namedtuple('Student',['name','age','DOB'])\n",
    " \n",
    "# Adding values\n",
    "S = Student('Nandini','19','2541997')\n",
    " \n",
    "# using _fields to display all the keynames of namedtuple()\n",
    "print (\"All the fields of students are : \")\n",
    "print (S._fields)\n",
    " \n",
    "# using _replace() to change the attribute values of namedtuple\n",
    "print (\"The modified namedtuple is : \")\n",
    "print(S._replace(name = 'Manjeet'))"
   ]
  },
  {
   "cell_type": "code",
   "execution_count": 3,
   "metadata": {},
   "outputs": [
    {
     "name": "stdout",
     "output_type": "stream",
     "text": [
      "defaultdict(<class 'list'>, {'python': ['awesome', 'language'], 'something-else': ['not relevant']})\n",
      "Iterating using DC:{'python': ['awesome', 'language'], 'something-else': ['not relevant']}\n"
     ]
    }
   ],
   "source": [
    "d = defaultdict(list)\n",
    "d['python'].append(\"awesome\")\n",
    "d['something-else'].append(\"not relevant\")\n",
    "d['python'].append(\"language\")\n",
    "print(d)\n",
    "dict2 = {k:v for (k,v) in d.items()}\n",
    "print(\"Iterating using DC:{}\".format(dict2))"
   ]
  },
  {
   "cell_type": "code",
   "execution_count": null,
   "metadata": {},
   "outputs": [],
   "source": []
  }
 ],
 "metadata": {
  "kernelspec": {
   "display_name": "Python 3",
   "language": "python",
   "name": "python3"
  },
  "language_info": {
   "codemirror_mode": {
    "name": "ipython",
    "version": 3
   },
   "file_extension": ".py",
   "mimetype": "text/x-python",
   "name": "python",
   "nbconvert_exporter": "python",
   "pygments_lexer": "ipython3",
   "version": "3.6.3"
  }
 },
 "nbformat": 4,
 "nbformat_minor": 2
}
