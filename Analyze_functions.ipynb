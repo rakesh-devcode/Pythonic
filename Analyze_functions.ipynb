{
 "cells": [
  {
   "cell_type": "markdown",
   "metadata": {},
   "source": [
    "## Functions Analyzer:\n",
    "\n",
    "1. any()\n",
    "2. all()\n",
    "3. ascii()\tReturns String Containing Printable Representation\n",
    "4. bool()\tCoverts a Value to Boolean \n",
    "5. enumerate() Returns an Enumerate Object\n",
    "6. filter()\tconstructs iterator from elements which are true\n",
    "7. iter()\treturns iterator for an object\n",
    "8. len()\tReturns Length of an Object\n",
    "9. max()\treturns largest element\n",
    "10. min()\treturns smallest element\n",
    "11. map()\tApplies Function and Returns a List\n",
    "12. reversed() \n",
    "13. slice\n",
    "14. sorted()\treturns sorted list from a given iterable\n",
    "15. sum()\tAdd items of an Iterable\n",
    "16. zip()\tReturns an Iterator of Tuples\n",
    "21.Reduce()\n",
    "--------------------------------\n",
    "17. dict()\tCreates a Dictionary\n",
    "18. tuple() Creates a tuple\n",
    "19. list() Creates a list\n",
    "20. bytearray(),bytes(),compile(),complex(),float(),input(),int(),ord() - Applicable for strings\n",
    "\n",
    "-----------------\n",
    "### Operators:\n",
    "in,not in,is,is not\n"
   ]
  },
  {
   "cell_type": "code",
   "execution_count": 1,
   "metadata": {},
   "outputs": [
    {
     "name": "stdout",
     "output_type": "stream",
     "text": [
      "True\n",
      "False\n",
      "True\n",
      "False\n"
     ]
    }
   ],
   "source": [
    "# The any() method returns True if any element of an iterable is true. If not, this method returns False.\n",
    "# any(iterable)\n",
    "l = [1, 3, 4, 0]\n",
    "print(any(l))\n",
    "\n",
    "l = [0, False]  # 0 denotes false and if it is used as '0' then it is valid\n",
    "print(any(l))\n",
    "\n",
    "l = [0, False, 5]\n",
    "print(any(l))\n",
    "\n",
    "l = []\n",
    "print(any(l))"
   ]
  },
  {
   "cell_type": "code",
   "execution_count": 2,
   "metadata": {},
   "outputs": [
    {
     "name": "stdout",
     "output_type": "stream",
     "text": [
      "True\n",
      "True\n",
      "False\n"
     ]
    }
   ],
   "source": [
    "s = \"This is good\"\n",
    "print(any(s))\n",
    "\n",
    "# 0 is False\n",
    "# '0' is True\n",
    "s = '000'\n",
    "print(any(s))\n",
    "\n",
    "s = ''\n",
    "print(any(s))"
   ]
  },
  {
   "cell_type": "code",
   "execution_count": 3,
   "metadata": {},
   "outputs": [
    {
     "name": "stdout",
     "output_type": "stream",
     "text": [
      "False\n",
      "True\n",
      "False\n",
      "False\n",
      "True\n"
     ]
    }
   ],
   "source": [
    "d = {0: 'False'}\n",
    "print(any(d))\n",
    "\n",
    "d = {0: 'False', 1: 'True'}\n",
    "print(any(d))\n",
    "\n",
    "d = {0: 'False', False: 0}\n",
    "print(any(d))\n",
    "\n",
    "d = {}\n",
    "print(any(d))\n",
    "\n",
    "# 0 is False\n",
    "# '0' is True\n",
    "d = {'0': 'False'}\n",
    "print(any(d))"
   ]
  },
  {
   "cell_type": "code",
   "execution_count": 5,
   "metadata": {},
   "outputs": [
    {
     "name": "stdout",
     "output_type": "stream",
     "text": [
      "True\n",
      "True\n"
     ]
    }
   ],
   "source": [
    "t = (1,2,3,4,5)\n",
    "print(any(t))\n",
    "t = (0,'false')\n",
    "print (any(t))"
   ]
  },
  {
   "cell_type": "code",
   "execution_count": 7,
   "metadata": {},
   "outputs": [
    {
     "name": "stdout",
     "output_type": "stream",
     "text": [
      "True\n",
      "False\n",
      "False\n",
      "True\n"
     ]
    }
   ],
   "source": [
    "# The all() method returns True when all elements in the given iterable are true. If not, it returns False.\n",
    "# True also for empty iterables.valid for dict,string,list,tuple.\n",
    "l = [1, 3, 4, 8]\n",
    "print(all(l))\n",
    "\n",
    "l = [0, False]  # 0 denotes false and if it is used as '0' then it is valid\n",
    "print(all(l))\n",
    "\n",
    "l = [0,1,2,3,4,5]\n",
    "print(all(l))\n",
    "\n",
    "l = []\n",
    "print(all(l))"
   ]
  },
  {
   "cell_type": "code",
   "execution_count": 12,
   "metadata": {},
   "outputs": [
    {
     "name": "stdout",
     "output_type": "stream",
     "text": [
      "<class 'enumerate'>\n",
      "[(0, 'bread'), (1, 'milk'), (2, 'butter')]\n",
      "()\n",
      "[(10, 'bread'), (11, 'milk'), (12, 'butter')]\n"
     ]
    }
   ],
   "source": [
    "# The enumerate() method adds counter to an iterable and returns it (the enumerate object).\n",
    "# enumerate(iterable, start=0). convert enumerate objects to list and tuple using list() and tuple() method respectively.\n",
    "grocery = ['bread', 'milk', 'butter']\n",
    "enumerateGrocery = enumerate(grocery)\n",
    "\n",
    "print(type(enumerateGrocery))\n",
    "#print(enumerateGrocery)\n",
    "# converting to list\n",
    "print(list(enumerateGrocery))\n",
    "#print(tuple(enumerateGrocery))\n",
    "\n",
    "# changing the default counter\n",
    "enumerateGrocery = enumerate(grocery, 10)\n",
    "print(list(enumerateGrocery))"
   ]
  },
  {
   "cell_type": "code",
   "execution_count": 8,
   "metadata": {},
   "outputs": [
    {
     "name": "stdout",
     "output_type": "stream",
     "text": [
      "(0, 'bread')\n",
      "(1, 'milk')\n",
      "(2, 'butter')\n",
      "\n",
      "\n",
      "0 bread\n",
      "1 milk\n",
      "2 butter\n",
      "100 bread\n",
      "101 milk\n",
      "102 butter\n",
      "{100: 'bread', 101: 'milk', 102: 'butter'}\n"
     ]
    }
   ],
   "source": [
    "grocery = ['bread', 'milk', 'butter']\n",
    "\n",
    "for item in enumerate(grocery):\n",
    "  print(item)\n",
    "print('\\n')\n",
    "for count, item in enumerate(grocery):\n",
    "  print(count, item)\n",
    "# changing default start value\n",
    "for count, item in enumerate(grocery, 100):\n",
    "  print(count, item)\n",
    "\n",
    "#In dictionary:\n",
    "dict1 = {}\n",
    "for count, item in enumerate(grocery, 100):\n",
    "    dict1[count] = item\n",
    "print(dict1)\n",
    "  #print(count, item)"
   ]
  },
  {
   "cell_type": "code",
   "execution_count": 2,
   "metadata": {},
   "outputs": [
    {
     "name": "stdout",
     "output_type": "stream",
     "text": [
      "<reversed object at 0x00EA8C90>\n",
      "['n', 'o', 'h', 't', 'y', 'P']\n",
      "['n', 'o', 'h', 't', 'y', 'P']\n",
      "[8, 7, 6, 5]\n",
      "[5, 3, 4, 2, 1]\n"
     ]
    }
   ],
   "source": [
    "# reversed(seq)\n",
    "# Could be an object that supports sequence protocol (__len__() and __getitem__() methods) as tuple, string, list or range\n",
    "# Could be an object that has implemented __reversed__()\n",
    "\n",
    "# for string\n",
    "seqString = 'Python'\n",
    "print (reversed(seqString))\n",
    "print(list(reversed(seqString)))\n",
    "\n",
    "# for tuple\n",
    "seqTuple = ('P', 'y', 't', 'h', 'o', 'n')\n",
    "print(list(reversed(seqTuple)))\n",
    "\n",
    "# for range\n",
    "seqRange = range(5, 9)\n",
    "print(list(reversed(seqRange)))\n",
    "\n",
    "# for list\n",
    "seqList = [1, 2, 4, 3, 5]\n",
    "print(list(reversed(seqList)))\n"
   ]
  },
  {
   "cell_type": "code",
   "execution_count": 5,
   "metadata": {},
   "outputs": [
    {
     "name": "stdout",
     "output_type": "stream",
     "text": [
      "<bound method Vowels.__reversed__ of <__main__.Vowels object at 0x00EA8AF0>>\n"
     ]
    }
   ],
   "source": [
    "class Vowels:\n",
    "    vowels = ['a', 'e', 'i', 'o', 'u']\n",
    "\n",
    "    def __reversed__(self):\n",
    "        return list(reversed(self.vowels))\n",
    "\n",
    "v = Vowels()\n",
    "print(v.__reversed__)\n",
    "# print(list(reversed(v)))"
   ]
  },
  {
   "cell_type": "code",
   "execution_count": 7,
   "metadata": {},
   "outputs": [
    {
     "name": "stdout",
     "output_type": "stream",
     "text": [
      "100\n"
     ]
    }
   ],
   "source": [
    "s2 = \"{0:b}\".format(4)\n",
    "print(s2)\n"
   ]
  },
  {
   "cell_type": "code",
   "execution_count": null,
   "metadata": {},
   "outputs": [],
   "source": []
  }
 ],
 "metadata": {
  "kernelspec": {
   "display_name": "Python 3",
   "language": "python",
   "name": "python3"
  },
  "language_info": {
   "codemirror_mode": {
    "name": "ipython",
    "version": 3
   },
   "file_extension": ".py",
   "mimetype": "text/x-python",
   "name": "python",
   "nbconvert_exporter": "python",
   "pygments_lexer": "ipython3",
   "version": "3.6.3"
  }
 },
 "nbformat": 4,
 "nbformat_minor": 2
}
