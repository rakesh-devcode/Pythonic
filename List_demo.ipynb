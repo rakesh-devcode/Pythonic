{
 "cells": [
  {
   "cell_type": "markdown",
   "metadata": {},
   "source": [
    "### List Methods:\n",
    "1. append,clear,copy,count,extend,index,insert,pop,remove,reverse,sort(11 methods)\n",
    "### Functions:\n",
    " del,slice,in,notin"
   ]
  },
  {
   "cell_type": "code",
   "execution_count": 5,
   "metadata": {},
   "outputs": [
    {
     "name": "stdout",
     "output_type": "stream",
     "text": [
      "[1, 9, 25, 49, 81]\n"
     ]
    }
   ],
   "source": [
    "#simple program of list to demonstrate square of odd numbers\n",
    "odd_square = []\n",
    "for x in range(1, 11):    #   1<=x<11, range(start,stop,steps)\n",
    "    if x % 2 == 1:\n",
    "        odd_square.append(x**2)\n",
    "print (odd_square)"
   ]
  },
  {
   "cell_type": "code",
   "execution_count": 8,
   "metadata": {},
   "outputs": [
    {
     "name": "stdout",
     "output_type": "stream",
     "text": [
      "[1, 9, 25, 49, 81]\n"
     ]
    }
   ],
   "source": [
    "#list comprehension\n",
    "\n",
    "odd_square = [x ** 2 for x in range(1, 11) if x % 2 == 1]\n",
    "print (odd_square)\n",
    "\n",
    "# here, x ** 2 is output expression, \n",
    "#     range (1, 11)  is input sequence, \n",
    "#     x is variable and   \n",
    "#     if x % 2 == 1 is predicate part(logic) that is optional.\n"
   ]
  },
  {
   "cell_type": "code",
   "execution_count": 2,
   "metadata": {},
   "outputs": [
    {
     "name": "stdout",
     "output_type": "stream",
     "text": [
      "[2, 4, 8, 16, 32, 64, 128, 256]\n"
     ]
    }
   ],
   "source": [
    "# below list contains power of 2 from 1 to 8\n",
    "power_of_2 = [2 ** x for x in range(1, 9)]\n",
    "print (power_of_2)"
   ]
  },
  {
   "cell_type": "code",
   "execution_count": 3,
   "metadata": {},
   "outputs": [
    {
     "name": "stdout",
     "output_type": "stream",
     "text": [
      "[2, 3, 5, 7, 11, 13, 17, 19, 23, 29, 31, 37, 41, 43, 47]\n"
     ]
    }
   ],
   "source": [
    "# below list contains prime and non-prime in range 1 to 50\n",
    "noprimes = [j for i in range(2, 8) for j in range(i*2, 50, i)]\n",
    "primes = [x for x in range(2, 50) if x not in noprimes]\n",
    "print (primes)"
   ]
  },
  {
   "cell_type": "code",
   "execution_count": 1,
   "metadata": {},
   "outputs": [
    {
     "name": "stdout",
     "output_type": "stream",
     "text": [
      "4\n",
      "6\n",
      "8\n",
      "10\n",
      "12\n",
      "14\n",
      "16\n",
      "18\n",
      "20\n",
      "22\n",
      "24\n",
      "26\n",
      "28\n",
      "30\n",
      "32\n",
      "34\n",
      "36\n",
      "38\n",
      "40\n",
      "42\n",
      "44\n",
      "46\n",
      "48\n",
      "9\n",
      "12\n",
      "15\n",
      "18\n",
      "21\n",
      "24\n",
      "27\n",
      "30\n",
      "33\n",
      "36\n",
      "39\n",
      "42\n",
      "45\n",
      "48\n",
      "16\n",
      "20\n",
      "24\n",
      "28\n",
      "32\n",
      "36\n",
      "40\n",
      "44\n",
      "48\n",
      "25\n",
      "30\n",
      "35\n",
      "40\n",
      "45\n",
      "36\n",
      "42\n",
      "48\n",
      "49\n",
      "[2, 3, 5, 7, 11, 13, 17, 19, 23, 29, 31, 37, 41, 43, 47]\n"
     ]
    }
   ],
   "source": [
    "#Explanation\n",
    "noprimes = []\n",
    "for i in range(2,8):\n",
    "    for j in range(i**2,50,i):\n",
    "        print(j)\n",
    "        noprimes.append(j)\n",
    "#print (noprimes)\n",
    "primes = []\n",
    "for x in range(2,50):\n",
    "    if x not in noprimes:\n",
    "        primes.append(x)\n",
    "print(primes)"
   ]
  },
  {
   "cell_type": "code",
   "execution_count": 1,
   "metadata": {},
   "outputs": [
    {
     "name": "stdout",
     "output_type": "stream",
     "text": [
      "['Ram', 'Raju', 'Hira', 1, 2, 345]\n",
      "['Ram', 'Raju', 'Hira', 1, 2, 345, 456]\n",
      "['Ram', 'Raju', 'Hira', 1, 2, 345]\n",
      "['Ram', 'Nari', 'Hira', 1, 2, 345, 456]\n",
      "['Ram', 'Raju', 'Nurul', 1, 2, 345]\n"
     ]
    }
   ],
   "source": [
    "list1 =[\"Ram\",\"Raju\",\"Hira\",1,2,345]\n",
    "list2 = list1.copy()\n",
    "print(list2)\n",
    "list1.append(456)\n",
    "print(list1)\n",
    "print(list2)\n",
    "list2[2]=\"Nurul\"\n",
    "list1[1]=\"Nari\"\n",
    "print(list1)\n",
    "print(list2)"
   ]
  },
  {
   "cell_type": "code",
   "execution_count": 10,
   "metadata": {},
   "outputs": [
    {
     "name": "stdout",
     "output_type": "stream",
     "text": [
      "[1, 2, 3, 4, 5, 6, 7, 8, 9, 10]\n",
      "[2, 3, 4, 5]\n",
      "[6, 7, 8]\n",
      "[2, 3, 4, 5, 6, 7, 8, 9, 10]\n",
      "[1, 2, 3, 4, 5]\n",
      "[2, 4, 6, 8]\n",
      "[10, 9, 8, 7, 6, 5, 4, 3, 2, 1]\n",
      "[10, 8, 6]\n"
     ]
    }
   ],
   "source": [
    "#Slicing operations:\n",
    "#[start : stop : steps]  \n",
    "#which means that slicing will start from index start\n",
    "# will go up to stop in step of steps. \n",
    "# Default value of start is 0, stop is last index of list\n",
    "# and for step it is 1. So [: stop] will slice list from starting till stop index and \n",
    "#[start : ] will slice list from start index till end\n",
    "# Let us first create a list to demonstrate slicing\n",
    "# lst contains all number from 1 to 10\n",
    "\n",
    "lst = [1,2,3,4,5,6,7,8,9,10]\n",
    "print (lst)\n",
    "\n",
    "# below list has numbers from 2 to 5\n",
    "lst1_5 = lst[1 : 5]\n",
    "print (lst1_5)\n",
    "\n",
    "# below list has numbers from 6 to 8\n",
    "lst5_8 = lst[5 : 8]\n",
    "print (lst5_8)\n",
    "\n",
    "# below list has numbers from 2 to 10\n",
    "lst1_ = lst[1 : ]\n",
    "print (lst1_)\n",
    "\n",
    "# below list has numbers from 1 to 5\n",
    "lst_5 = lst[: 5]\n",
    "print (lst_5)\n",
    "\n",
    "# below list has numbers from 2 to 8 in step 2\n",
    "lst1_8_2 = lst[1 : 8 : 2]\n",
    "print (lst1_8_2)\n",
    "\n",
    "# below list has numbers from 10 to 1\n",
    "lst_rev = lst[ : : -1]\n",
    "print (lst_rev)\n",
    "\n",
    "# below list has numbers from 10 to 6 in step 2\n",
    "lst_rev_9_5_2 = lst[9 : 4 : -2]\n",
    "print (lst_rev_9_5_2)\n"
   ]
  },
  {
   "cell_type": "code",
   "execution_count": 7,
   "metadata": {},
   "outputs": [
    {
     "name": "stdout",
     "output_type": "stream",
     "text": [
      "['a', 'b', 'c']\n",
      "['A', 'B', 'C']\n",
      "\n",
      "Extracted digits\n",
      "['1', '1', '1', '2', '2']\n",
      "11122\n",
      "5\n"
     ]
    }
   ],
   "source": [
    "#inbuilt functions:\n",
    "# list for lowering the characters\n",
    "print ([x.lower() for x in [\"A\",\"B\",\"C\"]])\n",
    "print ([x.upper() for x in [\"a\",\"b\",\"C\"]])\n",
    " \n",
    " \n",
    "# list which extracts number\n",
    "string = \"my phone number is : 11122 !!\"\n",
    " \n",
    "print(\"\\nExtracted digits\")\n",
    "numbers = [x for x in string if x.isdigit()]\n",
    "print (numbers)\n",
    "s=\"\"\n",
    "for i in range(len(numbers)):\n",
    "    s = s + (numbers[i])\n",
    "print(s)\n",
    "print(len(s))\n",
    "# print(numbers[0]+numbers[1]+numbers[2])"
   ]
  },
  {
   "cell_type": "code",
   "execution_count": 18,
   "metadata": {},
   "outputs": [
    {
     "name": "stdout",
     "output_type": "stream",
     "text": [
      "My Name is Naveel.I live in Bangalore\n"
     ]
    }
   ],
   "source": [
    "string1 = \"My Name is Naveel\"\n",
    "string2 ='I live in Bangalore'\n",
    "string3 = string1 +'.' + string2\n",
    "print(string3)"
   ]
  },
  {
   "cell_type": "code",
   "execution_count": 11,
   "metadata": {},
   "outputs": [
    {
     "name": "stdout",
     "output_type": "stream",
     "text": [
      "<class 'list'>\n",
      "10\n",
      "success\n"
     ]
    }
   ],
   "source": [
    "list1 = [10,\"I am Naveel\",45]\n",
    "print(type(list1))\n",
    "#print(list1[1]) # inedex starts from 0\n",
    "print(list1[-3]) #index from negative starts from last\n",
    "if 10 in list1:\n",
    "    print('success')"
   ]
  },
  {
   "cell_type": "code",
   "execution_count": 29,
   "metadata": {},
   "outputs": [
    {
     "name": "stdout",
     "output_type": "stream",
     "text": [
      "[10, 'I am Naveel', 'I am Rakesh']\n"
     ]
    }
   ],
   "source": [
    "list1[2]=\"I am Rakesh\"\n",
    "print (list1)"
   ]
  },
  {
   "cell_type": "code",
   "execution_count": 36,
   "metadata": {},
   "outputs": [
    {
     "name": "stdout",
     "output_type": "stream",
     "text": [
      "15\n",
      "Rakesh\n",
      "Ajay\n",
      "Naveel\n",
      "19\n",
      "35\n",
      "['sumit', 56, 'raj', 92]\n"
     ]
    }
   ],
   "source": [
    "list2 = [15,'Rakesh','Ajay','Naveel',19,35,['sumit',56,'raj',92]]\n",
    "for ll in list2:\n",
    "    print(ll)"
   ]
  },
  {
   "cell_type": "code",
   "execution_count": 40,
   "metadata": {},
   "outputs": [
    {
     "name": "stdout",
     "output_type": "stream",
     "text": [
      "a\n",
      "b10\n",
      "15\n",
      "['a', 'b10', '15']\n",
      "Naveel\n",
      "19\n",
      "57\n",
      "['Naveel', 19, 57]\n",
      "Ra\n",
      "78\n",
      "ght345\n",
      "['Ra', 78, 'ght345']\n"
     ]
    }
   ],
   "source": [
    "list3 = [['a',\"b10\",\"15\"],[\"Naveel\",19,57],[\"Ra\",78,\"ght345\"]]\n",
    "for p in list3:\n",
    "    for q in p:\n",
    "        print(q)\n",
    "    print(p)\n",
    " \n",
    "    "
   ]
  },
  {
   "cell_type": "code",
   "execution_count": 1,
   "metadata": {},
   "outputs": [
    {
     "ename": "AttributeError",
     "evalue": "'tuple' object has no attribute 'append'",
     "output_type": "error",
     "traceback": [
      "\u001b[1;31m---------------------------------------------------------------------------\u001b[0m",
      "\u001b[1;31mAttributeError\u001b[0m                            Traceback (most recent call last)",
      "\u001b[1;32m<ipython-input-1-727b5c4bc960>\u001b[0m in \u001b[0;36m<module>\u001b[1;34m()\u001b[0m\n\u001b[0;32m      2\u001b[0m \u001b[1;31m#for p in list3[0]:\u001b[0m\u001b[1;33m\u001b[0m\u001b[1;33m\u001b[0m\u001b[0m\n\u001b[0;32m      3\u001b[0m     \u001b[1;31m#print(p)\u001b[0m\u001b[1;33m\u001b[0m\u001b[1;33m\u001b[0m\u001b[0m\n\u001b[1;32m----> 4\u001b[1;33m \u001b[0mlist3\u001b[0m\u001b[1;33m.\u001b[0m\u001b[0mappend\u001b[0m\u001b[1;33m(\u001b[0m\u001b[1;34m\"My Name is Rahul\"\u001b[0m\u001b[1;33m)\u001b[0m\u001b[1;33m\u001b[0m\u001b[0m\n\u001b[0m\u001b[0;32m      5\u001b[0m \u001b[0mprint\u001b[0m\u001b[1;33m(\u001b[0m\u001b[0mlist3\u001b[0m\u001b[1;33m)\u001b[0m\u001b[1;33m\u001b[0m\u001b[0m\n\u001b[0;32m      6\u001b[0m \u001b[1;33m\u001b[0m\u001b[0m\n",
      "\u001b[1;31mAttributeError\u001b[0m: 'tuple' object has no attribute 'append'"
     ]
    }
   ],
   "source": [
    "list3 = ['a',\"b10\",\"15\"],[\"Naveel\",19,57],[\"Ra\",78,\"ght345\"]\n",
    "#for p in list3[0]:\n",
    "    #print(p)\n",
    "list3.append(\"My Name is Rahul\")\n",
    "print(list3)\n",
    "#please note that by default list3 became tuples of list collection\n",
    "        "
   ]
  },
  {
   "cell_type": "code",
   "execution_count": 2,
   "metadata": {},
   "outputs": [
    {
     "name": "stdout",
     "output_type": "stream",
     "text": [
      "Help on class list in module builtins:\n",
      "\n",
      "class list(object)\n",
      " |  list() -> new empty list\n",
      " |  list(iterable) -> new list initialized from iterable's items\n",
      " |  \n",
      " |  Methods defined here:\n",
      " |  \n",
      " |  __add__(self, value, /)\n",
      " |      Return self+value.\n",
      " |  \n",
      " |  __contains__(self, key, /)\n",
      " |      Return key in self.\n",
      " |  \n",
      " |  __delitem__(self, key, /)\n",
      " |      Delete self[key].\n",
      " |  \n",
      " |  __eq__(self, value, /)\n",
      " |      Return self==value.\n",
      " |  \n",
      " |  __ge__(self, value, /)\n",
      " |      Return self>=value.\n",
      " |  \n",
      " |  __getattribute__(self, name, /)\n",
      " |      Return getattr(self, name).\n",
      " |  \n",
      " |  __getitem__(...)\n",
      " |      x.__getitem__(y) <==> x[y]\n",
      " |  \n",
      " |  __gt__(self, value, /)\n",
      " |      Return self>value.\n",
      " |  \n",
      " |  __iadd__(self, value, /)\n",
      " |      Implement self+=value.\n",
      " |  \n",
      " |  __imul__(self, value, /)\n",
      " |      Implement self*=value.\n",
      " |  \n",
      " |  __init__(self, /, *args, **kwargs)\n",
      " |      Initialize self.  See help(type(self)) for accurate signature.\n",
      " |  \n",
      " |  __iter__(self, /)\n",
      " |      Implement iter(self).\n",
      " |  \n",
      " |  __le__(self, value, /)\n",
      " |      Return self<=value.\n",
      " |  \n",
      " |  __len__(self, /)\n",
      " |      Return len(self).\n",
      " |  \n",
      " |  __lt__(self, value, /)\n",
      " |      Return self<value.\n",
      " |  \n",
      " |  __mul__(self, value, /)\n",
      " |      Return self*value.n\n",
      " |  \n",
      " |  __ne__(self, value, /)\n",
      " |      Return self!=value.\n",
      " |  \n",
      " |  __new__(*args, **kwargs) from builtins.type\n",
      " |      Create and return a new object.  See help(type) for accurate signature.\n",
      " |  \n",
      " |  __repr__(self, /)\n",
      " |      Return repr(self).\n",
      " |  \n",
      " |  __reversed__(...)\n",
      " |      L.__reversed__() -- return a reverse iterator over the list\n",
      " |  \n",
      " |  __rmul__(self, value, /)\n",
      " |      Return self*value.\n",
      " |  \n",
      " |  __setitem__(self, key, value, /)\n",
      " |      Set self[key] to value.\n",
      " |  \n",
      " |  __sizeof__(...)\n",
      " |      L.__sizeof__() -- size of L in memory, in bytes\n",
      " |  \n",
      " |  append(...)\n",
      " |      L.append(object) -> None -- append object to end\n",
      " |  \n",
      " |  clear(...)\n",
      " |      L.clear() -> None -- remove all items from L\n",
      " |  \n",
      " |  copy(...)\n",
      " |      L.copy() -> list -- a shallow copy of L\n",
      " |  \n",
      " |  count(...)\n",
      " |      L.count(value) -> integer -- return number of occurrences of value\n",
      " |  \n",
      " |  extend(...)\n",
      " |      L.extend(iterable) -> None -- extend list by appending elements from the iterable\n",
      " |  \n",
      " |  index(...)\n",
      " |      L.index(value, [start, [stop]]) -> integer -- return first index of value.\n",
      " |      Raises ValueError if the value is not present.\n",
      " |  \n",
      " |  insert(...)\n",
      " |      L.insert(index, object) -- insert object before index\n",
      " |  \n",
      " |  pop(...)\n",
      " |      L.pop([index]) -> item -- remove and return item at index (default last).\n",
      " |      Raises IndexError if list is empty or index is out of range.\n",
      " |  \n",
      " |  remove(...)\n",
      " |      L.remove(value) -> None -- remove first occurrence of value.\n",
      " |      Raises ValueError if the value is not present.\n",
      " |  \n",
      " |  reverse(...)\n",
      " |      L.reverse() -- reverse *IN PLACE*\n",
      " |  \n",
      " |  sort(...)\n",
      " |      L.sort(key=None, reverse=False) -> None -- stable sort *IN PLACE*\n",
      " |  \n",
      " |  ----------------------------------------------------------------------\n",
      " |  Data and other attributes defined here:\n",
      " |  \n",
      " |  __hash__ = None\n",
      "\n"
     ]
    }
   ],
   "source": [
    "#To see the list of methods for any data structure\n",
    "help(list)"
   ]
  },
  {
   "cell_type": "code",
   "execution_count": 5,
   "metadata": {},
   "outputs": [
    {
     "name": "stdout",
     "output_type": "stream",
     "text": [
      "looks bad\n"
     ]
    }
   ],
   "source": [
    "list1 = [10,\"I am Naveel\",45]\n",
    "if \"I am Naveel\" in list1:\n",
    "    print(\"Looks good \")\n",
    "else:\n",
    "    print(\"looks bad\")"
   ]
  },
  {
   "cell_type": "code",
   "execution_count": 9,
   "metadata": {},
   "outputs": [
    {
     "name": "stdout",
     "output_type": "stream",
     "text": [
      "Looks good \n"
     ]
    }
   ],
   "source": [
    "list1 = [10,\"I am Naveel\",45,10]\n",
    "if \"I am Naveel\" not in list1:\n",
    "    print(\"Looks good \")\n",
    "else:\n",
    "    print(\"looks bad\")\n"
   ]
  },
  {
   "cell_type": "code",
   "execution_count": 10,
   "metadata": {},
   "outputs": [
    {
     "data": {
      "text/plain": [
       "2"
      ]
     },
     "execution_count": 10,
     "metadata": {},
     "output_type": "execute_result"
    }
   ],
   "source": [
    "list1.count(10)"
   ]
  },
  {
   "cell_type": "code",
   "execution_count": 13,
   "metadata": {},
   "outputs": [
    {
     "name": "stdout",
     "output_type": "stream",
     "text": [
      "The length of list is : \n",
      "5\n",
      "The minimum element of list is : \n",
      "1\n",
      "The maximum element of list is : \n",
      "5\n"
     ]
    }
   ],
   "source": [
    "lis = [2, 1, 3, 5, 4]\n",
    " \n",
    "# using len() to print length of list\n",
    "print (\"The length of list is : \")\n",
    "print (len(lis))\n",
    " \n",
    "# using min() to print minimum element of list\n",
    "print (\"The minimum element of list is : \")\n",
    "print (min(lis))\n",
    " \n",
    "# using max() to print maximum element of list\n",
    "print (\"The maximum element of list is : \")\n",
    "print (max(lis))"
   ]
  },
  {
   "cell_type": "code",
   "execution_count": 19,
   "metadata": {},
   "outputs": [
    {
     "name": "stdout",
     "output_type": "stream",
     "text": [
      "[1, 2, 3, 4, 5, 6]\n",
      "list after concatenation is : \n",
      "1\n",
      "2\n",
      "3\n",
      "4\n",
      "5\n",
      "6\n",
      "[1, 2, 3, 1, 2, 3, 1, 2, 3]\n",
      "list after combining is : \n",
      "1\n",
      "2\n",
      "3\n",
      "1\n",
      "2\n",
      "3\n",
      "1\n",
      "2\n",
      "3\n"
     ]
    }
   ],
   "source": [
    "lis = [1, 2, 3]\n",
    "lis1 = [4, 5, 6]\n",
    " \n",
    "# using \"+\" to concatenate lists\n",
    "lis2= lis + lis1\n",
    "print(lis2)\n",
    " \n",
    "# priting concatenated lists\n",
    "print (\"list after concatenation is : \")\n",
    "for i in lis2:\n",
    "    print (i)\n",
    "\n",
    "        \n",
    "#using '*' to combine lists \n",
    "lis3 = lis * 3\n",
    "print (lis3)\n",
    "# priting combined lists\n",
    "print (\"list after combining is : \")\n",
    "for i in range(0,len(lis3)):\n",
    "         print (lis3[i])"
   ]
  },
  {
   "cell_type": "code",
   "execution_count": 1,
   "metadata": {},
   "outputs": [
    {
     "name": "stdout",
     "output_type": "stream",
     "text": [
      "3\n",
      "The index of first occurrence of 3 after 3rd position is : \n",
      "4\n"
     ]
    }
   ],
   "source": [
    "lis = [2, 1, 3, 5, 3, 4,3]\n",
    " \n",
    "# using index() to print first occurrence of 3\n",
    "# prints 5\n",
    "# index(element,begining,last)\n",
    "print(lis.index(5))\n",
    "print (\"The index of first occurrence of 3 after 3rd position is : \")\n",
    "print (lis.index(3, 3, 6))"
   ]
  },
  {
   "cell_type": "code",
   "execution_count": 4,
   "metadata": {},
   "outputs": [
    {
     "name": "stdout",
     "output_type": "stream",
     "text": [
      "[2, 1, 3, 'My name is Ramu', 5, 3, 8]\n",
      "[2, 1, 3, 'My name is Rohan', 3, 8]\n",
      "[2, 1, 5, 3, 8, 7]\n",
      "[]\n",
      "[2, 1, 8, 7]\n",
      "[2, 1, 7, 3, 8]\n",
      "deleting element from 1 to 3\n",
      "[2, 5, 3, 8, 7]\n"
     ]
    }
   ],
   "source": [
    "#insert(a, x) :-  a = index and x = element\n",
    "#remove() :- This function is used to delete the first occurrence of number mentioned in its arguments.\n",
    "# del[a : b] :- This method deletes all the elements in range starting from index ‘a’ till ‘b’ mentioned in arguments.\n",
    "# pop() :- This method deletes the element at the position mentioned in its arguments(from index).\n",
    "lis = [2, 1, 3, 5, 3, 8]\n",
    "lis.insert(3,\"My name is Ramu\")\n",
    "print(lis)\n",
    "list5 = [2, 1, 3, 5, 3, 8]\n",
    "list5[3] = \"My name is Rohan\"\n",
    "print(list5)\n",
    "list1 =  [2, 1, 7, 5, 3, 8,7] \n",
    "list1.remove(7)\n",
    "print(list1)\n",
    "list2 = [2, 1, 7, 5, 3, 8,7]\n",
    "list2.clear()\n",
    "print(list2)\n",
    "list3 = [2, 1, 7, 5, 3, 8,7]\n",
    "del list3[2 : 5]\n",
    "print(list3)\n",
    "list4 = [2, 1, 7, 5, 3, 8,7]\n",
    "list4.pop(3)\n",
    "#list4.pop()\n",
    "list4.pop()\n",
    "print(list4)\n",
    "list6 = [2, 1, 7, 5, 3, 8,7]\n",
    "print('deleting element from 1 to 3')\n",
    "del list6[1:3]\n",
    "#del list6[:]\n",
    "print(list6)"
   ]
  },
  {
   "cell_type": "code",
   "execution_count": 6,
   "metadata": {},
   "outputs": [
    {
     "name": "stdout",
     "output_type": "stream",
     "text": [
      "[1, 2, 3, 5, 7, 7, 8]\n",
      "[7, 8, 3, 5, 7, 1, 2]\n",
      "list6 : [7, 8, 3, 5, 7, 1, 2]\n",
      "[7, 8, 3, 5, 7, 1, 2]\n",
      "[675, 487, 3, 1, 2]\n"
     ]
    }
   ],
   "source": [
    "list3 = [2, 1, 7, 5, 3, 8,7]\n",
    "list3.sort()\n",
    "print(list3)\n",
    "list4 = [2, 1, 7, 5, 3, 8,7]\n",
    "list4.reverse()\n",
    "print(list4)\n",
    "#Manual method:\n",
    "list5 = [2, 1, 7, 5, 3, 8,7]\n",
    "#print(sorted(list5))\n",
    "# print(list(reversed(list5))\n",
    "list6 = [list5[i] for i in range(-1,(-len(list5)-1),-1)]\n",
    "print(\"list6 :\",list6)\n",
    "list7 = list5[::-1]\n",
    "print(list7)\n",
    "list_reverse =[2,1,3,487,675]\n",
    "list8 = list(reversed(list_reverse))\n",
    "print(list8)"
   ]
  },
  {
   "cell_type": "code",
   "execution_count": 3,
   "metadata": {},
   "outputs": [
    {
     "name": "stdout",
     "output_type": "stream",
     "text": [
      "[2, 1, 3, 5, 6, 4, 3]\n",
      "[2, 1, 3, 5, 6, 4, 3]\n",
      "[6, 4, 4, [7, 8, 2]]\n"
     ]
    }
   ],
   "source": [
    "lis1 = [2, 1, 3, 5]\n",
    "lis2 = [6, 4, 3]\n",
    "lis3 =[7,8,2]\n",
    "lis1.extend(lis2)\n",
    "print(lis1)\n",
    "lis2[2] = 4\n",
    "print(lis1)\n",
    "lis2.append(lis3)\n",
    "print(lis2)"
   ]
  },
  {
   "cell_type": "code",
   "execution_count": 4,
   "metadata": {},
   "outputs": [],
   "source": [
    "def sorting():\n",
    "    list1=[5,89,6784,7890564,76,45678,8765,73]\n",
    "    list1.sort()"
   ]
  },
  {
   "cell_type": "code",
   "execution_count": 5,
   "metadata": {},
   "outputs": [],
   "source": [
    "def sorting1():\n",
    "    list1=[5,89,6784,7890564,76,45678,8765,73]\n",
    "    sorted(list1)"
   ]
  },
  {
   "cell_type": "code",
   "execution_count": 6,
   "metadata": {},
   "outputs": [
    {
     "name": "stdout",
     "output_type": "stream",
     "text": [
      "3.06 µs ± 365 ns per loop (mean ± std. dev. of 7 runs, 100000 loops each)\n"
     ]
    }
   ],
   "source": [
    "%timeit sorting()"
   ]
  },
  {
   "cell_type": "code",
   "execution_count": 7,
   "metadata": {},
   "outputs": [
    {
     "name": "stdout",
     "output_type": "stream",
     "text": [
      "4.38 µs ± 468 ns per loop (mean ± std. dev. of 7 runs, 100000 loops each)\n"
     ]
    }
   ],
   "source": [
    "%timeit sorting1()"
   ]
  },
  {
   "cell_type": "code",
   "execution_count": null,
   "metadata": {},
   "outputs": [],
   "source": []
  }
 ],
 "metadata": {
  "kernelspec": {
   "display_name": "Python 3",
   "language": "python",
   "name": "python3"
  },
  "language_info": {
   "codemirror_mode": {
    "name": "ipython",
    "version": 3
   },
   "file_extension": ".py",
   "mimetype": "text/x-python",
   "name": "python",
   "nbconvert_exporter": "python",
   "pygments_lexer": "ipython3",
   "version": "3.6.3"
  }
 },
 "nbformat": 4,
 "nbformat_minor": 2
}
