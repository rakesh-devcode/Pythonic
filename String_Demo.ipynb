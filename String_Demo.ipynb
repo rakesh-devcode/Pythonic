{
 "cells": [
  {
   "cell_type": "markdown",
   "metadata": {},
   "source": [
    "#### We will learn about String methods.\n",
    "1. capitalize,center,count,decode,encode,find,rfind,index,rindex\n",
    "2. isalnum(),isalpha,isdigit,isnumeric,isspace,isupper,islower,istitle,startswith,endswith\n",
    "3. Join,upper,lower,title,swapcase,strip,lstrip,rstrip,split,replace. (29 methods)"
   ]
  },
  {
   "cell_type": "code",
   "execution_count": 2,
   "metadata": {},
   "outputs": [
    {
     "name": "stdout",
     "output_type": "stream",
     "text": [
      "str.capitalize() :  This is string example....wow!!!\n"
     ]
    }
   ],
   "source": [
    "str = \"this is string example....wow!!!\"\n",
    "print (\"str.capitalize() : \", str.capitalize()) # First character will be capitalize"
   ]
  },
  {
   "cell_type": "code",
   "execution_count": 3,
   "metadata": {},
   "outputs": [
    {
     "name": "stdout",
     "output_type": "stream",
     "text": [
      "32\n",
      "aaaathis is string example....wow!!!aaaa\n",
      "    this is string example....wow!!!    \n"
     ]
    }
   ],
   "source": [
    "# str.center(width[, fillchar])\n",
    "# The method center() returns centered in a string of length width. \n",
    "# Padding is done using the specified fillchar. Default filler is a space.\n",
    "\n",
    "str = \"this is string example....wow!!!\"\n",
    "print (len(str))   # to get the length of string\n",
    "print (str.center(40, 'a'))\n",
    "print (str.center(40))"
   ]
  },
  {
   "cell_type": "code",
   "execution_count": 4,
   "metadata": {},
   "outputs": [
    {
     "name": "stdout",
     "output_type": "stream",
     "text": [
      "str.count('i') :  3\n",
      "str.count('exam', 10, 40) :  1\n"
     ]
    }
   ],
   "source": [
    "'''The count() method returns the number of occurrences of substring sub in the range [start, end]. \n",
    "Optional arguments start and end are interpreted as in slice notation.\n",
    "str.count(sub, start = 0,end = len(string))'''\n",
    "\n",
    "str = \"this is string example....wow!!!\"\n",
    "sub = 'i'\n",
    "print (\"str.count('i') : \", str.count(sub))\n",
    "sub = 'exam'\n",
    "# print(str.count('exam',1))\n",
    "print (\"str.count('exam', 10, 40) : \", str.count(sub,10,40))"
   ]
  },
  {
   "cell_type": "markdown",
   "metadata": {},
   "source": [
    "### Possible values for errors are\n",
    "1. 'strict': raise an exception in case of an encoding error\n",
    "2. 'replace': replace malformed data with a suitable replacement marker, such as '?' or '\\ufffd'\n",
    "3. 'ignore': ignore malformed data and continue without further notice\n",
    "4. 'xmlcharrefreplace': replace with the appropriate XML character reference (for encoding only)\n",
    "5. 'backslashreplace': replace with backslashed escape sequences (for encoding only)"
   ]
  },
  {
   "cell_type": "code",
   "execution_count": 4,
   "metadata": {},
   "outputs": [
    {
     "name": "stdout",
     "output_type": "stream",
     "text": [
      "Encoded String:  b'dGhpcyBpcyBzdHJpbmcgZXhhbXBsZS4uLi53b3chISE='\n",
      "b'this is string example....wow!!!'\n"
     ]
    }
   ],
   "source": [
    "import base64\n",
    "Str = \"this is string example....wow!!!\"\n",
    "Str = base64.b64encode(Str.encode('utf-8',errors = 'strict'))\n",
    "\n",
    "print (\"Encoded String: \" , Str)\n",
    "str1 = base64.b64decode(Str.decode('utf-8',errors = 'strict'))\n",
    "print(str1)"
   ]
  },
  {
   "cell_type": "code",
   "execution_count": 13,
   "metadata": {},
   "outputs": [
    {
     "name": "stdout",
     "output_type": "stream",
     "text": [
      "15\n",
      "15\n",
      "-1\n",
      "5\n",
      "5\n",
      "-1\n",
      "2\n",
      "2\n",
      "-1\n"
     ]
    }
   ],
   "source": [
    "# str.find(str, beg = 0 end = len(string))\n",
    "# returns -1 incase if it doesnt find.it returns the first index matches from start\n",
    "str1 = \"this is string example....wow!!!\"\n",
    "str2 = \"exam\";\n",
    "\n",
    "print (str1.find(str2))\n",
    "print (str1.find(str2, 10))\n",
    "print (str1.find(str2, 40))\n",
    "\n",
    "str1 = \"this is really a string example....wow!!!\"\n",
    "str2 = \"is\"\n",
    "\n",
    "print (str1.rfind(str2))  #It reurns from last index it matches\n",
    "\n",
    "print (str1.rfind(str2, 0, 10))\n",
    "print (str1.rfind(str2, 10, 0))\n",
    "\n",
    "print (str1.find(str2))\n",
    "print (str1.find(str2, 0, 10))\n",
    "print (str1.find(str2, 10, 0))"
   ]
  },
  {
   "cell_type": "code",
   "execution_count": 4,
   "metadata": {},
   "outputs": [
    {
     "name": "stdout",
     "output_type": "stream",
     "text": [
      "15\n",
      "15\n",
      "5\n"
     ]
    }
   ],
   "source": [
    "# It works like find only but it returns exception(value error-substring not found#) if it doesnt find specific one.\n",
    "\n",
    "str1 = \"this is string example....wow!!!\"\n",
    "str2 = \"exam\";\n",
    "\n",
    "print (str1.index(str2))\n",
    "print (str1.index(str2, 10))\n",
    "#print (str1.index(str2, 40))\n",
    "\n",
    "str1 = \"this is really a string example....wow!!!\"\n",
    "str2 = \"is\"\n",
    "\n",
    "print (str1.rindex(str2)) # It will return from last index\n",
    "#print (str1.rindex(str2,10))"
   ]
  },
  {
   "cell_type": "code",
   "execution_count": 10,
   "metadata": {},
   "outputs": [
    {
     "name": "stdout",
     "output_type": "stream",
     "text": [
      "True\n",
      "False\n",
      "True\n",
      "False\n",
      "True\n",
      "False\n"
     ]
    }
   ],
   "source": [
    "str = \"this2016\"  # No space in this string\n",
    "print (str.isalnum())\n",
    "\n",
    "str = \"this is string example....wow!!!\"\n",
    "print (str.isalnum())\n",
    "\n",
    "str = \"this\";  # No space & digit in this string\n",
    "print (str.isalpha())\n",
    "\n",
    "str = \"this is string example....wow!!!\"\n",
    "print (str.isalpha())\n",
    "\n",
    "str = \"123456\";  # Only digit in this string\n",
    "print (str.isdigit())\n",
    "\n",
    "str = \"this is string example....wow!!!\"\n",
    "print (str.isdigit())"
   ]
  },
  {
   "cell_type": "code",
   "execution_count": 7,
   "metadata": {},
   "outputs": [
    {
     "name": "stdout",
     "output_type": "stream",
     "text": [
      "False\n",
      "True\n",
      "True\n",
      "False\n",
      "True\n",
      "False\n",
      "True\n",
      "False\n",
      "True\n"
     ]
    }
   ],
   "source": [
    "str = \"this2016\"  \n",
    "print (str.isnumeric())\n",
    "\n",
    "str = \"23443434\"\n",
    "print (str.isnumeric())\n",
    "\n",
    "str = \"       \" \n",
    "print (str.isspace())\n",
    "\n",
    "str = \"This is string example....wow!!!\"\n",
    "print (str.isspace())\n",
    "\n",
    "str = \"This Is String Example...Wow!!!\" # returns true because all words first charater uppercased followed by lower case\n",
    "print (str.istitle())\n",
    "\n",
    "str = \"This is string example....wow!!!\"\n",
    "print (str.istitle())\n",
    "\n",
    "str = \"THIS IS STRING EXAMPLE....WOW!!!\"\n",
    "print (str.isupper())\n",
    "\n",
    "str = \"THIS is string example....wow!!!\"\n",
    "print (str.isupper())\n",
    "\n",
    "str1 = \"this is a good demo\"\n",
    "print (str1.islower())"
   ]
  },
  {
   "cell_type": "code",
   "execution_count": 9,
   "metadata": {},
   "outputs": [
    {
     "name": "stdout",
     "output_type": "stream",
     "text": [
      "a-b-c\n",
      "Ram,Rakesh,Krishna\n",
      "str.upper :  THIS IS STRING EXAMPLE....WOW!!!\n",
      "str.lower :  this is string example....wow!!!\n"
     ]
    }
   ],
   "source": [
    "# The join() method returns a string in which the string elements of sequence have been joined by str separator.\n",
    "# str.join(sequence)\n",
    "s = \"-\"\n",
    "seq = (\"a\", \"b\", \"c\") # This is sequence of strings.\n",
    "print (s.join( seq ))\n",
    "\n",
    "str= \",\"\n",
    "list1 = [\"Ram\",\"Rakesh\",\"Krishna\"]\n",
    "print(str.join(list1))\n",
    "\n",
    "str = \"This is string EXAMPLE....wow!!!\"\n",
    "print (\"str.upper : \",str.upper())\n",
    "print (\"str.lower : \",str.lower())"
   ]
  },
  {
   "cell_type": "code",
   "execution_count": 11,
   "metadata": {},
   "outputs": [
    {
     "name": "stdout",
     "output_type": "stream",
     "text": [
      "this is string example....wow!!!\n",
      "this is string example....wow!!!*****\n",
      "*****this is string example....wow!!!\n"
     ]
    }
   ],
   "source": [
    "# str.strip([chars])\n",
    "\n",
    "str = \"*****this is string example....wow!!!*****\"\n",
    "print (str.strip( '*' ))\n",
    "\n",
    "print (str.lstrip('*'))\n",
    "print (str.rstrip('*'))"
   ]
  },
  {
   "cell_type": "code",
   "execution_count": 12,
   "metadata": {},
   "outputs": [
    {
     "name": "stdout",
     "output_type": "stream",
     "text": [
      "True\n",
      "True\n",
      "False\n",
      "True\n",
      "True\n",
      "True\n",
      "False\n"
     ]
    }
   ],
   "source": [
    "# str.startswith(str, beg = 0,end = len(string));\n",
    "str = \"this is string example....wow!!!\"\n",
    "print (str.startswith( 'this' ))\n",
    "print (str.startswith( 'string', 8 ))\n",
    "print (str.startswith( 'this', 2, 4 ))\n",
    "\n",
    "Str='this is string example....wow!!!'\n",
    "suffix='!!'\n",
    "print (Str.endswith(suffix))\n",
    "print (Str.endswith(suffix,20))\n",
    "suffix1='exam'\n",
    "suffix2 = 'wow'\n",
    "print (Str.endswith(suffix))\n",
    "print (Str.endswith(suffix, 0, 19))"
   ]
  },
  {
   "cell_type": "code",
   "execution_count": 27,
   "metadata": {},
   "outputs": [
    {
     "name": "stdout",
     "output_type": "stream",
     "text": [
      "THIS IS STRING EXAMPLE....WOW!!!\n",
      "This Is String Example....Wow!!!\n",
      "tHIS iS sTRING eXAMPLE....wow!!!\n"
     ]
    }
   ],
   "source": [
    "str = \"this is string example....wow!!!\"\n",
    "print (str.swapcase()) # It will swap the case\n",
    "print (str.title()) # title will convert uppercase character followed by lowercase\n",
    "\n",
    "str = \"This Is String Example....WOW!!!\"\n",
    "print (str.swapcase())"
   ]
  },
  {
   "cell_type": "code",
   "execution_count": 2,
   "metadata": {},
   "outputs": [
    {
     "name": "stdout",
     "output_type": "stream",
     "text": [
      "['this', 'is', 'string', 'example....wow!!!']\n",
      "['th', 's is string example....wow!!!']\n",
      "['this is string example....', 'o', '!!!']\n",
      "['this is \\n', 'string example....\\n', 'wow!!!']\n",
      "['this is ', 'string example....', 'wow!!!']\n"
     ]
    }
   ],
   "source": [
    "# split() method returns a list of all the words in the string, using str as the separator (splits on all whitespace if \n",
    "# left unspecified), optionally limiting the number of splits to num.\n",
    "# str.split(str=\"\", num = string.count(str)).\n",
    "\n",
    "str = \"this is string example....wow!!!\"\n",
    "print (str.split( ))\n",
    "print (str.split('i',1))\n",
    "print (str.split('w'))\n",
    "\n",
    "# splitlines() method returns a list with all the lines in string, optionally including the line breaks (if num is \n",
    "# supplied and is true)\n",
    "# str.splitlines( num = string.count('\\n'))\n",
    "str = \"this is \\nstring example....\\nwow!!!\"\n",
    "print (str.splitlines(1))\n",
    "print (str.splitlines( ))"
   ]
  },
  {
   "cell_type": "code",
   "execution_count": 40,
   "metadata": {},
   "outputs": [
    {
     "name": "stdout",
     "output_type": "stream",
     "text": [
      "Max character:  y\n",
      "Min character:  \n",
      "Max character: x\n",
      "Min character:  \n"
     ]
    }
   ],
   "source": [
    "str = \"this is a-string example....reallyq!!!\"\n",
    "print (\"Max character: \", max(str))\n",
    "print (\"Min character: \" + min(str))\n",
    "\n",
    "str = \"this is a string example....wowq!!!\"\n",
    "print (\"Max character: \" + max(str))\n",
    "print (\"Min character: \" + min(str))"
   ]
  },
  {
   "cell_type": "code",
   "execution_count": 38,
   "metadata": {},
   "outputs": [
    {
     "name": "stdout",
     "output_type": "stream",
     "text": [
      "Min character: .\n",
      "Min character: A\n"
     ]
    }
   ],
   "source": [
    "str = \"www.tutorialspoint.com\"\n",
    "print (\"Min character: \" + min(str))\n",
    "\n",
    "str = \"TUTORIALSPOINT\"\n",
    "print (\"Min character: \" + min(str))\n"
   ]
  },
  {
   "cell_type": "code",
   "execution_count": 14,
   "metadata": {},
   "outputs": [
    {
     "name": "stdout",
     "output_type": "stream",
     "text": [
      "thwas was string example....wow!!! thwas was really string\n",
      "thwas was string example....wow!!! thwas is really string\n"
     ]
    }
   ],
   "source": [
    "str = \"this is string example....wow!!! this is really string\"\n",
    "print (str.replace(\"is\", \"was\"))\n",
    "print (str.replace(\"is\", \"was\", 3)) #Number of time to replace"
   ]
  },
  {
   "cell_type": "code",
   "execution_count": 8,
   "metadata": {},
   "outputs": [
    {
     "name": "stdout",
     "output_type": "stream",
     "text": [
      "This is my\n",
      "is my\n",
      "i ysiigs\n"
     ]
    }
   ],
   "source": [
    "string1 = \"This is my slicing string\"\n",
    "print(string1[:10])\n",
    "print(string1[5:10])\n",
    "print(string1[5:20:2])"
   ]
  },
  {
   "cell_type": "code",
   "execution_count": 5,
   "metadata": {},
   "outputs": [],
   "source": [
    "str =\"Rahul\""
   ]
  },
  {
   "cell_type": "code",
   "execution_count": null,
   "metadata": {},
   "outputs": [],
   "source": [
    "str."
   ]
  }
 ],
 "metadata": {
  "kernelspec": {
   "display_name": "Python 3",
   "language": "python",
   "name": "python3"
  },
  "language_info": {
   "codemirror_mode": {
    "name": "ipython",
    "version": 3
   },
   "file_extension": ".py",
   "mimetype": "text/x-python",
   "name": "python",
   "nbconvert_exporter": "python",
   "pygments_lexer": "ipython3",
   "version": "3.6.3"
  }
 },
 "nbformat": 4,
 "nbformat_minor": 2
}
